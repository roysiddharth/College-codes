{
 "cells": [
  {
   "cell_type": "markdown",
   "source": [
    "# Generate SBI Debit card PIN in 4 ways"
   ],
   "metadata": {}
  },
  {
   "cell_type": "markdown",
   "source": [
    "## 1. Using ATM"
   ],
   "metadata": {}
  },
  {
   "cell_type": "code",
   "execution_count": null,
   "source": [
    "import random\r\n",
    "\r\n",
    "def gen_otp():\r\n",
    "    otp = random.randint(1000, 9999)\r\n",
    "    return otp"
   ],
   "outputs": [],
   "metadata": {}
  },
  {
   "cell_type": "code",
   "execution_count": null,
   "source": [
    "def get_number():\r\n",
    "    while True:\r\n",
    "        number = input(\"Enter RMN: \")\r\n",
    "        if not number.isdigit():\r\n",
    "            print (\"Enter only numbers\\n\")\r\n",
    "            continue\r\n",
    "        if len(number) != 10:\r\n",
    "            print (\"Enter 10 digits\\n\")\r\n",
    "            continue\r\n",
    "        else: \r\n",
    "            break\r\n",
    "    return number"
   ],
   "outputs": [],
   "metadata": {}
  },
  {
   "cell_type": "code",
   "execution_count": null,
   "source": [
    "def get_otp():\r\n",
    "    otp = int(input(\"Enter OTP/PIN:\\t\"))\r\n",
    "    return otp"
   ],
   "outputs": [],
   "metadata": {}
  },
  {
   "cell_type": "code",
   "execution_count": null,
   "source": [
    "def comp_otp(otp1, otp2):\r\n",
    "    if int(otp1) == int(otp2):\r\n",
    "        print(\"OTP/PIN Verified!\")\r\n",
    "        return True\r\n",
    "    else:\r\n",
    "        print(\"Cannot verify OTP/PIN! Please try again...\")\r\n",
    "        return False"
   ],
   "outputs": [],
   "metadata": {}
  },
  {
   "cell_type": "code",
   "execution_count": null,
   "source": [
    "def create_pin():\r\n",
    "    while True:\r\n",
    "        try:\r\n",
    "            print(\"\\nEnter your 4 digit PIN:\")\r\n",
    "            pin1 = int(input(\"Enter your 4 digit PIN:\"))\r\n",
    "            print(\"Enter your 4 digit PIN again:\")\r\n",
    "            pin2 = int(input(\"Enter your 4 digit PIN again:\"))\r\n",
    "        except ValueError or TypeError:\r\n",
    "            print(\"Invalid input! Please enter from 1000-9999\")\r\n",
    "            continue\r\n",
    "        else:\r\n",
    "            if pin1 == pin2:\r\n",
    "                return pin1\r\n",
    "            else:\r\n",
    "                print(\"PINs do not match! Please try again.\")\r\n",
    "                continue"
   ],
   "outputs": [],
   "metadata": {}
  },
  {
   "cell_type": "code",
   "execution_count": null,
   "source": [
    "def pin_gen():\r\n",
    "    ch = input(\"Type 'p' to proceed...\")\r\n",
    "\r\n",
    "    try:\r\n",
    "        while True:\r\n",
    "            if ch.lower() == 'p':\r\n",
    "                print(\"Enter your 10 digit RMN:\\t\")\r\n",
    "                ph = get_number()\r\n",
    "                print(f\"OTP has been sent to you RMN ending in XXXXXXX{ph[-3]}{ph[-2]}{ph[-1]}...\\n(Valid for 2 days)\\n\")\r\n",
    "                while True:\r\n",
    "                    otp = gen_otp()\r\n",
    "                    print(f\"Your One Time Password to generate SBI PIN is: {otp}\")\r\n",
    "                    ent_otp = get_otp()\r\n",
    "                    comp = comp_otp(otp, ent_otp)\r\n",
    "                    if comp == True:\r\n",
    "                        pin = create_pin()\r\n",
    "                        break\r\n",
    "                    if comp == False:\r\n",
    "                        continue\r\n",
    "                break\r\n",
    "\r\n",
    "            else:\r\n",
    "                print(\"\\nPlease enter 'p' to proceed...\")\r\n",
    "                continue\r\n",
    "\r\n",
    "    except Exception:\r\n",
    "        print(\"Oops! Something went wrong...\")\r\n",
    "\r\n",
    "    else:\r\n",
    "        print(f\"\\nYour PIN is generated as: {pin}\")"
   ],
   "outputs": [],
   "metadata": {}
  },
  {
   "cell_type": "code",
   "execution_count": null,
   "source": [
    "print(\"Insert your card... \\n\")\r\n",
    "pin_gen()"
   ],
   "outputs": [],
   "metadata": {}
  },
  {
   "cell_type": "markdown",
   "source": [
    "## 2. Through SMS"
   ],
   "metadata": {}
  },
  {
   "cell_type": "code",
   "execution_count": 65,
   "source": [
    "def get_deb_number():\r\n",
    "    while True:\r\n",
    "        number = input(\"Enter Debit Card number: \")\r\n",
    "        if not number.isdigit():\r\n",
    "            print (\"Enter only numbers\\n\")\r\n",
    "            continue\r\n",
    "        if len(number) != 16:\r\n",
    "            print (\"Enter 16 digits\\n\")\r\n",
    "            continue\r\n",
    "        else: \r\n",
    "            break\r\n",
    "    return number"
   ],
   "outputs": [],
   "metadata": {}
  },
  {
   "cell_type": "code",
   "execution_count": 66,
   "source": [
    "def get_acc_number():\r\n",
    "    while True:\r\n",
    "        number = input(\"Enter Account number: \")\r\n",
    "        if not number.isdigit():\r\n",
    "            print (\"Enter only numbers\\n\")\r\n",
    "            continue\r\n",
    "        if len(number) != 9:\r\n",
    "            print (\"Enter 9 digits\\n\")\r\n",
    "            continue\r\n",
    "        else: \r\n",
    "            break\r\n",
    "    return number"
   ],
   "outputs": [],
   "metadata": {}
  },
  {
   "cell_type": "code",
   "execution_count": 67,
   "source": [
    "deb_no = get_deb_number()\r\n",
    "acc_no = get_acc_number()\r\n",
    "rmn = get_number()\r\n",
    "\r\n",
    "print(f\"SMS PIN <space> CCCC <space> AAAA to 567676 from RMN ending in XXXXXXX{rmn[-3]}{rmn[-2]}{rmn[-1]}\")\r\n",
    "print(f\"For example: PIN 1540 5987\")\r\n",
    "print(\"\\nPress 'c' to proceed...\")\r\n",
    "ch = input()\r\n",
    "try:\r\n",
    "    while True:\r\n",
    "        if ch == 'c':\r\n",
    "            print(\"SMS generated...\\n\")\r\n",
    "            print(f\"SMS to 567676: PIN {deb_no[-4]}{deb_no[-3]}{deb_no[-2]}{deb_no[-1]} {acc_no[-4]}{acc_no[-3]}{acc_no[-2]}{acc_no[-1]} from: RMN ending in XXXXXXX{rmn[-3]}{rmn[-2]}{rmn[-1]}\\n\")\r\n",
    "            \r\n",
    "            while True:\r\n",
    "                otp = gen_otp()\r\n",
    "                print(f\"Your One Time Password to generate SBI PIN is: {otp}\")\r\n",
    "                ent_otp = get_otp()\r\n",
    "                comp = comp_otp(otp, ent_otp)\r\n",
    "                if comp == True:\r\n",
    "                    pin = create_pin()\r\n",
    "                    break\r\n",
    "                if comp == False:\r\n",
    "                    continue\r\n",
    "            break\r\n",
    "        else:\r\n",
    "            print(\"Please confirm the following SMS\")\r\n",
    "            continue\r\n",
    "except Exception:\r\n",
    "    print(\"Oops! Something went wrong...\")\r\n",
    "\r\n",
    "else:\r\n",
    "    print(f\"\\nYour PIN is generated as: {pin}\")\r\n",
    "    "
   ],
   "outputs": [
    {
     "output_type": "stream",
     "name": "stdout",
     "text": [
      "SMS PIN <space> CCCC <space> AAAA to 567676 from RMN ending in XXXXXXX873\n",
      "For example: PIN 1540 5987\n",
      "\n",
      "Press 'c' to proceed...\n",
      "SMS generated...\n",
      "\n",
      "SMS to 567676: PIN 3214 5963 from: RMN ending in XXXXXXX873\n",
      "\n",
      "Your One Time Password to generate SBI PIN is: 3532\n",
      "OTP/PIN Verified!\n",
      "\n",
      "Enter your 4 digit PIN:\n",
      "Enter your 4 digit PIN again:\n",
      "\n",
      "Your PIN is generated as: 2265\n"
     ]
    }
   ],
   "metadata": {}
  },
  {
   "cell_type": "markdown",
   "source": [
    "## 3. Through Internet Banking"
   ],
   "metadata": {}
  },
  {
   "cell_type": "code",
   "execution_count": null,
   "source": [
    "from tabulate import tabulate"
   ],
   "outputs": [],
   "metadata": {}
  },
  {
   "cell_type": "code",
   "execution_count": null,
   "source": [
    "class Customer:\r\n",
    "    def __init__(self):\r\n",
    "        self.u_id = \"sheldoncooper\"\r\n",
    "        self.pwd = \"123456\"\r\n",
    "\r\n",
    "    def get_info(self):\r\n",
    "        u_id = input(\"Enter Username (Case-sensitive)\")\r\n",
    "        pwd = input(\"Enter Password\")\r\n",
    "        return u_id,pwd\r\n",
    "    \r\n",
    "    def check_info(self, u_id, pwd):\r\n",
    "        i = 0\r\n",
    "        while i < 3:\r\n",
    "            if u_id == self.u_id and pwd == self.pwd :\r\n",
    "                print(\"\\nCredentials verified!\")\r\n",
    "                print(\"Login Successful\")\r\n",
    "                break\r\n",
    "            else:\r\n",
    "                print(f\"\\nInvalid credentials! Try again ({3-i} tries remaining)...\")\r\n",
    "                i += 1\r\n",
    "                continue\r\n",
    "        if i == 3:\r\n",
    "            print(\"\\n\\nAccount has been blocked due to multiple failed login attempts.\")\r\n",
    "    \r\n",
    "    def view_acc(self):\r\n",
    "        print(\"Information of linked accounts to Dr. Sheldon Cooper as follows:\\n\")\r\n",
    "\r\n",
    "        self.acc_info = [\r\n",
    "            [524896523, 5246352589856471, 8250744873, 520.35],\r\n",
    "            [854715421, 6352524154789584, 8250744873, 238.75],\r\n",
    "            [646459254, 5263526385967484, 8250744873, 21.32]\r\n",
    "        ]\r\n",
    "\r\n",
    "        print(tabulate(self.acc_info, headers = [\"Account No.\", \"Debit Card no.\", \"RMN\", \"Balance US$\"]))"
   ],
   "outputs": [],
   "metadata": {}
  },
  {
   "cell_type": "code",
   "execution_count": null,
   "source": [
    "# Login and show linked account information\r\n",
    "sheldon = Customer()\r\n",
    "\r\n",
    "i = 0\r\n",
    "while i < 3:\r\n",
    "    try:\r\n",
    "        deet = list(sheldon.get_info())\r\n",
    "        if [sheldon.u_id, sheldon.pwd] == deet:\r\n",
    "            print(\"\\nCredentials verified!\")\r\n",
    "            print(\"Login Successful\")\r\n",
    "            sheldon.view_acc()\r\n",
    "            break\r\n",
    "        else:\r\n",
    "            print(f\"\\nInvalid credentials! Try again ({2-i} tries remaining)...\")\r\n",
    "            i += 1\r\n",
    "            continue\r\n",
    "    except Exception:\r\n",
    "        print(\"Oops something went wrong...\")\r\n",
    "        continue\r\n",
    "\r\n",
    "if i == 3:\r\n",
    "    print(\"\\n\\nAccount has been blocked due to multiple failed login attempts.\")"
   ],
   "outputs": [],
   "metadata": {}
  },
  {
   "cell_type": "code",
   "execution_count": null,
   "source": [
    "def first_digits():\r\n",
    "    while True:\r\n",
    "        first = input()\r\n",
    "        if not first.isdigit():\r\n",
    "            print (\"Enter only numbers\\n\")\r\n",
    "            continue\r\n",
    "        if len(first) != 2:\r\n",
    "            print (\"Enter 2 digits\\n\")\r\n",
    "            continue\r\n",
    "        else:\r\n",
    "            return first"
   ],
   "outputs": [],
   "metadata": {}
  },
  {
   "cell_type": "code",
   "execution_count": null,
   "source": [
    "print(\"Choose the account for PIN generation...\")\r\n",
    "while True:\r\n",
    "    try:\r\n",
    "        ch = int(input())\r\n",
    "        acc_no = sheldon.acc_info[ch][0]\r\n",
    "        deb_no = sheldon.acc_info[ch][1]\r\n",
    "        rmn = sheldon.acc_info[ch][2]\r\n",
    "\r\n",
    "        print(\"Choose the first 2 digits of the pin: \")\r\n",
    "        first = first_digits()\r\n",
    "        print(f\"First two digits of PIN is {first}\")\r\n",
    "\r\n",
    "        pin = random.randint(10, 99)\r\n",
    "        print(f\"Last two digits of PIN sent to RMN ({rmn}) is {pin}\")\r\n",
    "        pin = str(f\"{first}{pin}\")\r\n",
    "        pin = int(pin)\r\n",
    "        \r\n",
    "        user_pin = get_otp()\r\n",
    "        comp = comp_otp(pin, user_pin)\r\n",
    "        \r\n",
    "        if comp == True:\r\n",
    "            pin = user_pin\r\n",
    "            print(f\"\\nYour PIN is generated as: {user_pin}\")\r\n",
    "            break\r\n",
    "        if comp == False:\r\n",
    "            continue\r\n",
    "\r\n",
    "    except ValueError:\r\n",
    "        print(\"Please enter a valid choice for account...\")\r\n",
    "        continue"
   ],
   "outputs": [],
   "metadata": {}
  },
  {
   "cell_type": "markdown",
   "source": [
    "## 4. Through IVRS"
   ],
   "metadata": {}
  },
  {
   "cell_type": "code",
   "execution_count": null,
   "source": [],
   "outputs": [],
   "metadata": {}
  },
  {
   "cell_type": "code",
   "execution_count": null,
   "source": [],
   "outputs": [],
   "metadata": {}
  },
  {
   "cell_type": "code",
   "execution_count": null,
   "source": [],
   "outputs": [],
   "metadata": {}
  },
  {
   "cell_type": "code",
   "execution_count": null,
   "source": [],
   "outputs": [],
   "metadata": {}
  }
 ],
 "metadata": {
  "orig_nbformat": 4,
  "language_info": {
   "name": "python",
   "version": "3.8.8",
   "mimetype": "text/x-python",
   "codemirror_mode": {
    "name": "ipython",
    "version": 3
   },
   "pygments_lexer": "ipython3",
   "nbconvert_exporter": "python",
   "file_extension": ".py"
  },
  "kernelspec": {
   "name": "python3",
   "display_name": "Python 3.8.8 64-bit ('base': conda)"
  },
  "interpreter": {
   "hash": "ad020af2a90d7d844a16733cd15481a581997a82b91189c88d1b93e1640f3c3b"
  }
 },
 "nbformat": 4,
 "nbformat_minor": 2
}