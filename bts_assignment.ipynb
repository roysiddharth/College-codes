{
 "cells": [
  {
   "cell_type": "markdown",
   "source": [
    "# MDS173 Assignment: Python Programming\r\n",
    "## 1MDS 2148026"
   ],
   "metadata": {}
  },
  {
   "cell_type": "markdown",
   "source": [
    "## Objective of this code\r\n",
    "\r\n",
    "The objective of this code is to help find BTS members choose courses from CHRIST University to enhance their English speaking skills.\r\n",
    "\r\n",
    "Based on the choices a member of the band makes, we will recommend courses best suited to their needs."
   ],
   "metadata": {}
  },
  {
   "cell_type": "markdown",
   "source": [
    "The code below is a declaration of the immutable and mutable data types available in Python that I have used for my purposes.\r\n",
    "\r\n",
    "They are:\r\n",
    "- Dictionaries\r\n",
    "- Tuples\r\n",
    "- Lists"
   ],
   "metadata": {}
  },
  {
   "cell_type": "markdown",
   "source": [
    "## Tuples\r\n",
    "\r\n",
    "I have used tuple data types containing City and Campus.\r\n",
    "\r\n",
    "## Dictionary\r\n",
    "\r\n",
    "1. I have used dictionary data types to hold the various course informations such as:\r\n",
    "    - Course names\r\n",
    "    - Campus that course is available in\r\n",
    "    - City that campus is in\r\n",
    "    - Mode of study (Offline or Online)\r\n",
    "\r\n",
    "2. I have also used another dictionary with arbitrary keys to hold all these course dictionaries in. \r\n",
    "3. So it becomes basically a dictionary whose values are dictionaries as well."
   ],
   "metadata": {}
  },
  {
   "cell_type": "code",
   "execution_count": 8,
   "source": [
    "# tuple of cities and campuses\r\n",
    "city = ('bangalore', 'delhi ncr', 'pune')\r\n",
    "campus = ('central', 'kangeri', 'bannerghatta', 'delhi ncr', 'pune lavasa')\r\n",
    "\r\n",
    "# dictionary of course details\r\n",
    "lib_arts = {'course name': 'english and liberal arts', campus: 'central', city: 'bangalore', 'mode': True}\r\n",
    "th_studies = {'course name': 'english and theatre studies', campus: 'kangeri', city: 'bangalore', 'mode': True}\r\n",
    "psych = {'course name': 'english and psychology', campus: 'delhi ncr', city: 'delhi ncr', 'mode': False}\r\n",
    "diploma = {'course name': 'diploma course', campus: 'pune lavasa', city: 'pune', 'mode': True}\r\n",
    "certificate ={'course name': 'certificate course', campus: 'bannerghatta', city: 'bangalore', 'mode': False}\r\n",
    "\r\n",
    "# dictionary of all courses available\r\n",
    "courses = {1: lib_arts, 2: th_studies, 3: psych, 4: diploma, 5: certificate}\r\n",
    "\r\n",
    "        "
   ],
   "outputs": [],
   "metadata": {}
  },
  {
   "cell_type": "markdown",
   "source": [
    "## Function for Mode select by user\r\n",
    "\r\n",
    "- The function below is used to ask user for an input of whether they would like to attend online or offline classes.\r\n",
    "- Based on their choice, the course recommended to them differs because not all courses available are offline or online."
   ],
   "metadata": {}
  },
  {
   "cell_type": "code",
   "execution_count": 9,
   "source": [
    "# function to select online or offline mode\r\n",
    "def mode_select():\r\n",
    "    print('Would you like to look for offline or online courses at CHRIST?:\\t')\r\n",
    "    choice_mode = input()\r\n",
    "    if choice_mode.lower() == 'off' or 'offline':\r\n",
    "        return True\r\n",
    "    elif choice_mode.lower() == 'on' or 'online':\r\n",
    "        return False\r\n",
    "    else:\r\n",
    "        print('Please type a valid choice: (Offline/Online)')"
   ],
   "outputs": [],
   "metadata": {}
  },
  {
   "cell_type": "markdown",
   "source": [
    "## Function to help user select a city\r\n",
    "\r\n",
    "- This user-defined function is to help users choose a City they want to pursue their course in.\r\n",
    "- There are options of Bangalore, Delhi NCR and Pune."
   ],
   "metadata": {}
  },
  {
   "cell_type": "code",
   "execution_count": 10,
   "source": [
    "# function to select city\r\n",
    "def city_select():\r\n",
    "    print('Select your City:\\n1 Bangalore\\n2 Delhi NCR\\n3 Pune\\nChoice: ')\r\n",
    "    m_input = int(input())\r\n",
    "    if m_input not in range(1,4):\r\n",
    "        print('Invalid input')\r\n",
    "        return -1\r\n",
    "    elif m_input == 1:\r\n",
    "        return city[0]\r\n",
    "    elif m_input == 2:\r\n",
    "        return city[1]\r\n",
    "    elif m_input == 3:\r\n",
    "        return city[2]"
   ],
   "outputs": [],
   "metadata": {}
  },
  {
   "cell_type": "markdown",
   "source": [
    "## Function to help user choose a campus\r\n",
    "\r\n",
    "This function is two-fold.\r\n",
    "\r\n",
    "- CHRIST University has 3 campuses in Bangalore and 1 each in Delhi and Pune.\r\n",
    "- So if the user has chosen Bangalore as their city, this function will ask them to choose between the three available campuses.\r\n",
    "- If the user has chosen any of the other two options, it will assign the default campuses there."
   ],
   "metadata": {}
  },
  {
   "cell_type": "code",
   "execution_count": 11,
   "source": [
    "# function to select campus\r\n",
    "def campus_select(city_choice):         # enter city_select() function as argument here\r\n",
    "    if choice_city == 'bangalore':\r\n",
    "        choice = int(input(\"Please select campus:\\n1 for Central\\n2 for Kangeri\\n3 for Bannerghatta\"))\r\n",
    "        return campus[choice-1]\r\n",
    "    elif choice_city == 'delhi ncr':\r\n",
    "        return campus[3]\r\n",
    "    elif choice_city == 'pune':\r\n",
    "        return campus[4]\r\n",
    "    else:\r\n",
    "        print('Invalid campus choice!')"
   ],
   "outputs": [],
   "metadata": {}
  },
  {
   "cell_type": "markdown",
   "source": [
    "## Function to recommend course based on previous choices of user\r\n",
    "\r\n",
    "This is the function which recommends the best-suited course to the user based on their choices of:\r\n",
    "1. Mode\r\n",
    "2. City\r\n",
    "3. Campus\r\n"
   ],
   "metadata": {}
  },
  {
   "cell_type": "markdown",
   "source": [
    "## Working of the function\r\n",
    "- The rec_courses(p1, p2, p3) function takes in 3 parameters.\r\n",
    "- It then runs a for loop for all of the elements in the dictionary containing another dictionary to find a match for the user selected inputs.\r\n",
    "- If user inputted values matches a value in any one of the inner dictionaires, it appends the course name value of the dictionary to an empty list we have created to hold the course the user enrolls in.\r\n",
    "- After the for loop, if the empty list we created initially remains empty, that means we did not find a match for any course fitting the user requirements.\r\n",
    "- In that case it will print a negative message."
   ],
   "metadata": {}
  },
  {
   "cell_type": "code",
   "execution_count": 12,
   "source": [
    "avail_courses = []\r\n",
    "\r\n",
    "# function to recommend courses to user based on previous given inputs\r\n",
    "def rec_courses(mode, city1, campus1):\r\n",
    "    for course in courses:\r\n",
    "        if courses[course].get(city) == city1 and courses[course].get('mode') == mode and courses[course].get(campus) == campus1:\r\n",
    "            avail_courses.append(courses[course].get('course name'))\r\n",
    "    print('Recommended course(s) for you:\\t{}'.format(avail_courses))\r\n",
    "    if not avail_courses:\r\n",
    "        print(\"No courses available meeting requirements!\")"
   ],
   "outputs": [],
   "metadata": {}
  },
  {
   "cell_type": "markdown",
   "source": [
    "## Enrollment confirmation function\r\n",
    "\r\n",
    "1. This function simply prints out an enrollment confirmation for the user along with their details if a course was recommended.\r\n",
    "2. Otherwise it just prints that the enrollment was unsuccessful."
   ],
   "metadata": {}
  },
  {
   "cell_type": "code",
   "execution_count": 13,
   "source": [
    "# enrollment confirmation message\r\n",
    "def enroll_confirm():\r\n",
    "    if not avail_courses:\r\n",
    "        print('Enrollment unsuccessful!')\r\n",
    "    else:\r\n",
    "        print('Member details are as follows:\\n')\r\n",
    "        for key in member_details:\r\n",
    "            print('{}: {}'.format(key, member_details[key]))\r\n",
    "        print('\\nEnrollment confirmed. Welcome to {}!'.format(avail_courses[0]))"
   ],
   "outputs": [],
   "metadata": {}
  },
  {
   "cell_type": "markdown",
   "source": [
    "## Main function\r\n",
    "\r\n",
    "This is the main function which calls all the user-defined functions in order of execution."
   ],
   "metadata": {}
  },
  {
   "cell_type": "code",
   "execution_count": 14,
   "source": [
    "# main code\r\n",
    "\r\n",
    "print('User login:\\nInput Name and Age please:\\t')\r\n",
    "name = input()\r\n",
    "age = int(input())\r\n",
    "\r\n",
    "# select offline or online mode\r\n",
    "choice_mode = mode_select()         # we choose 'off' for offline\r\n",
    "\r\n",
    "# select city\r\n",
    "choice_city = city_select()         # we choose 'bangalore'\r\n",
    "\r\n",
    "# select campus\r\n",
    "choice_campus = campus_select(choice_city) # we choose 'kangeri'\r\n",
    "\r\n",
    "# recommend courses based on previous choices\r\n",
    "rec_courses(choice_mode, choice_city, choice_campus)    # avail_courses contains ['english and theatre studies']\r\n",
    "# dictionary holding member details \r\n",
    "member_details ={'name': name, 'age': age, 'offline mode': choice_mode,\r\n",
    "'city': choice_city, 'campus': choice_campus, 'courses': avail_courses}\r\n",
    "\r\n",
    "# calling enrollment confirmation function\r\n",
    "enroll_confirm()                        # prints the enrollment confirmation message with the user details"
   ],
   "outputs": [
    {
     "output_type": "stream",
     "name": "stdout",
     "text": [
      "User login:\n",
      "Input Name and Age please:\t\n",
      "Would you like to look for offline or online courses at CHRIST?:\t\n",
      "Select your City:\n",
      "1 Bangalore\n",
      "2 Delhi NCR\n",
      "3 Pune\n",
      "Choice: \n",
      "Recommended course(s) for you:\t['english and theatre studies']\n",
      "Member details are as follows:\n",
      "\n",
      "name: Siddhartha Roy\n",
      "age: 23\n",
      "offline mode: True\n",
      "city: bangalore\n",
      "campus: kangeri\n",
      "courses: ['english and theatre studies']\n",
      "\n",
      "Enrollment confirmed. Welcome to english and theatre studies!\n"
     ]
    }
   ],
   "metadata": {}
  }
 ],
 "metadata": {
  "orig_nbformat": 4,
  "language_info": {
   "name": "python",
   "version": "3.8.8",
   "mimetype": "text/x-python",
   "codemirror_mode": {
    "name": "ipython",
    "version": 3
   },
   "pygments_lexer": "ipython3",
   "nbconvert_exporter": "python",
   "file_extension": ".py"
  },
  "kernelspec": {
   "name": "python3",
   "display_name": "Python 3.8.8 64-bit ('base': conda)"
  },
  "interpreter": {
   "hash": "ad020af2a90d7d844a16733cd15481a581997a82b91189c88d1b93e1640f3c3b"
  }
 },
 "nbformat": 4,
 "nbformat_minor": 2
}